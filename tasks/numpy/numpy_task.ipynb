{
 "cells": [
  {
   "cell_type": "code",
   "execution_count": 3,
   "metadata": {},
   "outputs": [],
   "source": [
    "# Libs\n",
    "import numpy as np"
   ]
  },
  {
   "cell_type": "markdown",
   "metadata": {},
   "source": [
    "# NumPy Array"
   ]
  },
  {
   "cell_type": "markdown",
   "metadata": {},
   "source": [
    "- How to create an empty and a full NumPy array?"
   ]
  },
  {
   "cell_type": "code",
   "execution_count": 20,
   "metadata": {
    "tags": []
   },
   "outputs": [
    {
     "output_type": "stream",
     "name": "stdout",
     "text": "Empty Array:\n\n [[1.28822975e-231 2.32036043e+077]\n [1.29074334e-231 2.82475776e-309]]\n\nFull Array: \n\n [[25. 25.]\n [25. 25.]]\n"
    }
   ],
   "source": [
    "# Empty array\n",
    "empty_np_array = np.empty((2,2))\n",
    "print(f'Empty Array:\\n\\n {empty_np_array}\\n')\n",
    "#Full array\n",
    "full_array = np.full((2,2), 25.0)\n",
    "print(f'Full Array: \\n\\n {full_array}')"
   ]
  },
  {
   "cell_type": "markdown",
   "metadata": {},
   "source": [
    "\n",
    "- Create a Numpy array filled with all zeros"
   ]
  },
  {
   "cell_type": "code",
   "execution_count": 25,
   "metadata": {
    "tags": []
   },
   "outputs": [
    {
     "output_type": "stream",
     "name": "stdout",
     "text": "Zeroes Array: \n\n  [[0. 0. 0. 0. 0.]\n [0. 0. 0. 0. 0.]\n [0. 0. 0. 0. 0.]\n [0. 0. 0. 0. 0.]\n [0. 0. 0. 0. 0.]]\n\n"
    }
   ],
   "source": [
    "# Zeroes Array\n",
    "zeroes_array = np.zeros((5,5))\n",
    "print(f'Zeroes Array: \\n\\n  {zeroes_array}\\n')"
   ]
  },
  {
   "cell_type": "markdown",
   "metadata": {},
   "source": [
    "\n",
    "- Create a Numpy array filled with all ones"
   ]
  },
  {
   "cell_type": "code",
   "execution_count": 27,
   "metadata": {
    "tags": []
   },
   "outputs": [
    {
     "output_type": "stream",
     "name": "stdout",
     "text": "Ones Array: \n\n  [[1. 1. 1. 1. 1.]\n [1. 1. 1. 1. 1.]\n [1. 1. 1. 1. 1.]\n [1. 1. 1. 1. 1.]\n [1. 1. 1. 1. 1.]]\n\n"
    }
   ],
   "source": [
    "# Ones Array\n",
    "ones_array = np.ones((5,5))\n",
    "print(f'Ones Array: \\n\\n  {ones_array}\\n')"
   ]
  },
  {
   "cell_type": "markdown",
   "metadata": {},
   "source": [
    "- Check whether a Numpy array contains a specified row"
   ]
  },
  {
   "cell_type": "code",
   "execution_count": 32,
   "metadata": {
    "tags": []
   },
   "outputs": [
    {
     "output_type": "stream",
     "name": "stdout",
     "text": "Array: \n\n [[1 4 2]\n [2 3 9]]\n\nArray: \n\n [1 2 3]\n\nIs row in array ?: \n\n True\n"
    }
   ],
   "source": [
    "# Array\n",
    "array = np.array([[1, 4, 2], [2, 3, 9]])\n",
    "# Row\n",
    "row = np.array([1, 2, 3])\n",
    "print(f'Array: \\n\\n {array}\\n')\n",
    "print(f'Array: \\n\\n {row}\\n')\n",
    "# Check if row is in array\n",
    "print(f'Is row in array ?: \\n\\n {row in array}')"
   ]
  },
  {
   "cell_type": "markdown",
   "metadata": {
    "tags": []
   },
   "source": [
    "- How to Remove rows in Numpy array that contains non-numeric values?"
   ]
  },
  {
   "cell_type": "code",
   "execution_count": 47,
   "metadata": {
    "tags": []
   },
   "outputs": [
    {
     "output_type": "stream",
     "name": "stdout",
     "text": "Array NaN:\n\n [[ 1.  2.  3.]\n [nan  5. nan]]\n\nArray Without NaN:\n\n [[1. 2. 3.]]\n\n"
    }
   ],
   "source": [
    "# Array with nan elements\n",
    "array_nan = np.array([[1, 2, 3], [np.nan, 5, np.nan]])\n",
    "print(f'Array NaN:\\n\\n {array_nan}\\n')\n",
    "# Removing rows with any nan element\n",
    "array_without_nan = array_nan[~np.isnan(array_nan).any(axis=1)]\n",
    "print(f'Array Without NaN:\\n\\n {array_without_nan}\\n')"
   ]
  },
  {
   "cell_type": "markdown",
   "metadata": {},
   "source": [
    "- Remove single-dimensional entries from the shape of an array"
   ]
  },
  {
   "cell_type": "code",
   "execution_count": 55,
   "metadata": {
    "tags": []
   },
   "outputs": [
    {
     "output_type": "stream",
     "name": "stdout",
     "text": "2d Array:\n\n [[1]\n [2]\n [3]]\n\n1d Array: \n\n [1 2 3]\n"
    }
   ],
   "source": [
    "# 2d array\n",
    "array_2d = np.array([[1], [2], [3]])\n",
    "print(f'2d Array:\\n\\n {array_2d}\\n')\n",
    "# Removing one dimension from array\n",
    "array_1d = np.squeeze(array_2d)\n",
    "print(f'1d Array: \\n\\n {array_1d}')"
   ]
  },
  {
   "cell_type": "markdown",
   "metadata": {},
   "source": [
    "- Find the number of occurrences of a sequence in a NumPy array"
   ]
  },
  {
   "cell_type": "code",
   "execution_count": 60,
   "metadata": {
    "tags": []
   },
   "outputs": [
    {
     "output_type": "stream",
     "name": "stdout",
     "text": "Array with sequence:\n\n [[1 2 3]\n [2 3 1]\n [1 2 3]]\n\n\nPattern: 1, 2, 3\n\n\n# of Occurrences: 2\n"
    }
   ],
   "source": [
    "# Array with sequence\n",
    "array_with_sequence = np.array([[1, 2, 3], [2, 3, 1], [1, 2, 3]])\n",
    "print(f'Array with sequence:\\n\\n {array_with_sequence}\\n\\n')\n",
    "# Defining pattern\n",
    "pattern_sequence = '1, 2, 3'\n",
    "print(f'Pattern: {pattern_sequence}\\n\\n')\n",
    "# Counting sequence occurrence inside array\n",
    "print(f'# of Occurrences: {repr(array_with_sequence).count(pattern_sequence)}')"
   ]
  },
  {
   "cell_type": "markdown",
   "metadata": {},
   "source": [
    "- Find the most frequent value in a NumPy array"
   ]
  },
  {
   "cell_type": "code",
   "execution_count": 66,
   "metadata": {
    "tags": []
   },
   "outputs": [
    {
     "output_type": "stream",
     "name": "stdout",
     "text": "Most Frequent Element of array: 1\n"
    }
   ],
   "source": [
    "# Array\n",
    "array = np.array([1,2,1,1,2,3,4])\n",
    "print(f'Most Frequent Element of array: {np.bincount(array).argmax()}')"
   ]
  },
  {
   "cell_type": "markdown",
   "metadata": {},
   "source": [
    "\n",
    "- Combining a one and a two-dimensional NumPy Array"
   ]
  },
  {
   "cell_type": "code",
   "execution_count": 74,
   "metadata": {
    "tags": []
   },
   "outputs": [
    {
     "output_type": "stream",
     "name": "stdout",
     "text": "1 --> 4\n2 --> 5\n3 --> 6\n1 --> 7\n2 --> 8\n3 --> 9\n"
    }
   ],
   "source": [
    "# 1D array\n",
    "array_1d = np.array([1,2,3])\n",
    "# 2D array\n",
    "array_2d = np.array([[4,5,6],[7, 8, 9]])\n",
    "# iterating and combining \n",
    "for a1, a2 in np.nditer([array_1d, array_2d]):\n",
    "    print(f'{a1} --> {a2}')"
   ]
  },
  {
   "cell_type": "markdown",
   "metadata": {},
   "source": [
    "- How to build an array of all combinations of two NumPy arrays?"
   ]
  },
  {
   "cell_type": "code",
   "execution_count": 87,
   "metadata": {},
   "outputs": [
    {
     "output_type": "execute_result",
     "data": {
      "text/plain": "array([[ 1,  9,  1],\n       [10,  1, 11],\n       [ 2,  9,  2],\n       [10,  2, 11],\n       [ 3,  9,  3],\n       [10,  3, 11]])"
     },
     "metadata": {},
     "execution_count": 87
    }
   ],
   "source": [
    "# Arrays\n",
    "array1 = np.array([1, 2, 3])\n",
    "array2 = np.array([9, 10, 11])\n",
    "# New array with combination\n",
    "np.array(np.meshgrid(array1, array2)).T.reshape(-1,3)"
   ]
  },
  {
   "cell_type": "markdown",
   "metadata": {},
   "source": [
    "\n",
    "- How to add a border around a NumPy array?"
   ]
  },
  {
   "cell_type": "code",
   "execution_count": 95,
   "metadata": {
    "tags": []
   },
   "outputs": [
    {
     "output_type": "stream",
     "name": "stdout",
     "text": "Before Padding:\n\n [[1 2]\n [3 4]]\n\nAfter Padding:\n\n [[0 0 0 0]\n [0 1 2 0]\n [0 3 4 0]\n [0 0 0 0]]\n"
    }
   ],
   "source": [
    "# Original Array\n",
    "original_array = np.array([[1,2], [3, 4]])\n",
    "# Padded Array with 0\n",
    "padded_array = np.pad(original_array, pad_width=1, mode='constant',\n",
    "               constant_values=0)\n",
    "print(f'Before Padding:\\n\\n {original_array}\\n')\n",
    "print(f'After Padding:\\n\\n {padded_array}')"
   ]
  },
  {
   "cell_type": "markdown",
   "metadata": {},
   "source": [
    "\n",
    "- How to compare two NumPy arrays?\n"
   ]
  },
  {
   "cell_type": "code",
   "execution_count": 97,
   "metadata": {
    "tags": []
   },
   "outputs": [
    {
     "output_type": "stream",
     "name": "stdout",
     "text": "Testing if elements are equal: [False  True False  True]\nTesting if all elements are equal: False\n"
    }
   ],
   "source": [
    "array1 = np.array([1,3,4,5])\n",
    "array2 = np.array([0,3,2,5])\n",
    "print(f'Testing if elements are equal: {array1 == array2}')\n",
    "print(f'Testing if all elements are equal: {(array1 == array2).all()}')"
   ]
  },
  {
   "cell_type": "markdown",
   "metadata": {},
   "source": [
    "\n",
    "- How to check whether specified values are present in NumPy array?"
   ]
  },
  {
   "cell_type": "code",
   "execution_count": 103,
   "metadata": {},
   "outputs": [
    {
     "output_type": "execute_result",
     "data": {
      "text/plain": "array([ True,  True])"
     },
     "metadata": {},
     "execution_count": 103
    }
   ],
   "source": [
    "array = np.array([1,2,3,4,5])\n",
    "np.isin([1,2], array)"
   ]
  },
  {
   "cell_type": "markdown",
   "metadata": {},
   "source": [
    "- How to get all 2D diagonals of a 3D NumPy array?"
   ]
  },
  {
   "cell_type": "code",
   "execution_count": 105,
   "metadata": {
    "tags": []
   },
   "outputs": [
    {
     "output_type": "stream",
     "name": "stdout",
     "text": "[[[  0   1   2   3   4   5   6   7   8   9]\n  [ 10  11  12  13  14  15  16  17  18  19]\n  [ 20  21  22  23  24  25  26  27  28  29]\n  [ 30  31  32  33  34  35  36  37  38  39]]\n\n [[ 40  41  42  43  44  45  46  47  48  49]\n  [ 50  51  52  53  54  55  56  57  58  59]\n  [ 60  61  62  63  64  65  66  67  68  69]\n  [ 70  71  72  73  74  75  76  77  78  79]]\n\n [[ 80  81  82  83  84  85  86  87  88  89]\n  [ 90  91  92  93  94  95  96  97  98  99]\n  [100 101 102 103 104 105 106 107 108 109]\n  [110 111 112 113 114 115 116 117 118 119]]]\n"
    },
    {
     "output_type": "execute_result",
     "data": {
      "text/plain": "array([[  0,  11,  22,  33],\n       [ 40,  51,  62,  73],\n       [ 80,  91, 102, 113]])"
     },
     "metadata": {},
     "execution_count": 105
    }
   ],
   "source": [
    "array = np.arange(120).reshape(3, 4, 10)\n",
    "array_diagonal = np.diagonal(array, \n",
    "                       axis1 = 1,\n",
    "                       axis2 = 2)\n",
    "print(array)\n",
    "array_diagonal"
   ]
  },
  {
   "cell_type": "markdown",
   "metadata": {},
   "source": [
    "\n",
    "- Flatten a Matrix in Python using NumPy"
   ]
  },
  {
   "cell_type": "code",
   "execution_count": 111,
   "metadata": {
    "tags": []
   },
   "outputs": [
    {
     "output_type": "stream",
     "name": "stdout",
     "text": "Original Array:\n\n  [[1. 1. 1.]\n [1. 1. 1.]\n [1. 1. 1.]]\n\nFlatten Array: \n\n [1. 1. 1. 1. 1. 1. 1. 1. 1.]\n\n"
    }
   ],
   "source": [
    "# Original array\n",
    "array = np.ones((3,3))\n",
    "flatten_array = array.flatten()\n",
    "print(f'Original Array:\\n\\n  {array}\\n')\n",
    "print(f'Flatten Array: \\n\\n {flatten_array}\\n')"
   ]
  },
  {
   "cell_type": "markdown",
   "metadata": {},
   "source": [
    "\n",
    "- Flatten a 2d numpy array into 1d array"
   ]
  },
  {
   "cell_type": "code",
   "execution_count": 112,
   "metadata": {
    "tags": []
   },
   "outputs": [
    {
     "output_type": "stream",
     "name": "stdout",
     "text": "Original Array:\n\n  [[1 2 3]\n [4 5 6]\n [7 8 9]]\n\nFlatten Array: \n\n [1 2 3 4 5 6 7 8 9]\n\n"
    }
   ],
   "source": [
    "array = np.array([[1, 2, 3], [4, 5, 6], [7, 8, 9]])\n",
    "flatten_array = array.flatten()\n",
    "print(f'Original Array:\\n\\n  {array}\\n')\n",
    "print(f'Flatten Array: \\n\\n {flatten_array}\\n')"
   ]
  },
  {
   "cell_type": "markdown",
   "metadata": {},
   "source": [
    "- Move axes of an array to new positions"
   ]
  },
  {
   "cell_type": "code",
   "execution_count": 126,
   "metadata": {
    "tags": []
   },
   "outputs": [
    {
     "output_type": "stream",
     "name": "stdout",
     "text": "Old Array: \n\n[[0. 0. 0. 0. 0.]\n [0. 0. 0. 0. 0.]]\n\nNew Array: \n\n[[0. 0.]\n [0. 0.]\n [0. 0.]\n [0. 0.]\n [0. 0.]]\n\n"
    }
   ],
   "source": [
    "array_zeros = np.zeros((2, 5))\n",
    "print(f'Old Array: \\n\\n{array_zeros}\\n')\n",
    "array_zeros_moved = np.moveaxis(array_zeros, 0, -1)\n",
    "print(f'New Array: \\n\\n{array_zeros_moved}\\n')\n"
   ]
  },
  {
   "cell_type": "markdown",
   "metadata": {},
   "source": [
    "\n",
    "- Interchange two axes of an array"
   ]
  },
  {
   "cell_type": "code",
   "execution_count": 127,
   "metadata": {
    "tags": []
   },
   "outputs": [
    {
     "output_type": "stream",
     "name": "stdout",
     "text": "Old Array: \n\n[[1 2 3 4 5]]\n\nNew Array: \n\n[[1]\n [2]\n [3]\n [4]\n [5]]\n\n"
    }
   ],
   "source": [
    "array = np.array([[1,2,3,4,5]])\n",
    "array_changed = np.swapaxes(array, 0, 1)\n",
    "print(f'Old Array: \\n\\n{array}\\n')\n",
    "print(f'New Array: \\n\\n{array_changed}\\n')"
   ]
  },
  {
   "cell_type": "markdown",
   "metadata": {},
   "source": [
    "- NumPy – Fibonacci Series using Binet Formula\n"
   ]
  },
  {
   "cell_type": "code",
   "execution_count": 134,
   "metadata": {
    "tags": []
   },
   "outputs": [
    {
     "output_type": "stream",
     "name": "stdout",
     "text": "Here are the first 9 elements of Fibonacci series: [ 1.  1.  2.  3.  5.  8. 13. 21. 34.]\n"
    }
   ],
   "source": [
    "# Numbers to extract fibonnaci\n",
    "array_numbers = np.arange(1, 10)\n",
    "# Length of Array\n",
    "len_numbers = len(array_numbers)\n",
    "# Binet\n",
    "aux_sqrt_five = np.sqrt(5)\n",
    "alpha = (1 + aux_sqrt_five) / 2\n",
    "beta = (1 - aux_sqrt_five) / 2\n",
    "fibonacci_number = np.rint(((alpha ** array_numbers) - (beta ** array_numbers)) / (aux_sqrt_five))\n",
    "print(f'Here are the first {len_numbers} elements of Fibonacci series: {fibonacci_number}')"
   ]
  },
  {
   "cell_type": "markdown",
   "metadata": {},
   "source": [
    "\n",
    "\n",
    "- Counts the number of non-zero values in the array"
   ]
  },
  {
   "cell_type": "code",
   "execution_count": 117,
   "metadata": {
    "tags": []
   },
   "outputs": [
    {
     "output_type": "stream",
     "name": "stdout",
     "text": "Non-Zero Elements: 8\n"
    }
   ],
   "source": [
    "array = [[1, 2, 0, 4, 5], [0, 0, 0, 9, 10], [0, 0, 0, 14, 15]]\n",
    "\n",
    "print(f'Non-Zero Elements: {np.count_nonzero(array)}')"
   ]
  },
  {
   "cell_type": "markdown",
   "metadata": {},
   "source": [
    "\n",
    "- Count the number of elements along a given axis"
   ]
  },
  {
   "cell_type": "code",
   "execution_count": 116,
   "metadata": {
    "tags": []
   },
   "outputs": [
    {
     "output_type": "stream",
     "name": "stdout",
     "text": "Axis 0: 2\nAxis 1: 4\n"
    }
   ],
   "source": [
    "array = np.array([[1, 2, 3, 4], [5, 6, 7, 8]])\n",
    "\n",
    "print(f'Axis 0: {np.size(array, 0)}')\n",
    "print(f'Axis 1: {np.size(array, 1)}')"
   ]
  },
  {
   "cell_type": "markdown",
   "metadata": {},
   "source": [
    "\n",
    "- Trim the leading and/or trailing zeros from a 1-D array"
   ]
  },
  {
   "cell_type": "code",
   "execution_count": 115,
   "metadata": {
    "tags": []
   },
   "outputs": [
    {
     "output_type": "stream",
     "name": "stdout",
     "text": "Original Array:\n\n  [0 0 1 2 3 4 0 0 0]\n\nTrimmed Array: \n\n [1 2 3 4]\n\n"
    }
   ],
   "source": [
    "# Array with 0\n",
    "array_with_zeros = np.array([0,0, 1, 2, 3, 4, 0, 0 ,0])\n",
    "# Trimed Array\n",
    "trimmed_array = np.trim_zeros(array_with_zeros)\n",
    "print(f'Original Array:\\n\\n  {array_with_zeros}\\n')\n",
    "print(f'Trimmed Array: \\n\\n {trimmed_array}\\n')"
   ]
  },
  {
   "cell_type": "markdown",
   "metadata": {},
   "source": [
    "- Change data type of given numpy array"
   ]
  },
  {
   "cell_type": "markdown",
   "metadata": {},
   "source": [
    "\n",
    "\n",
    "- Reverse a numpy array"
   ]
  },
  {
   "cell_type": "code",
   "execution_count": 114,
   "metadata": {
    "tags": []
   },
   "outputs": [
    {
     "output_type": "stream",
     "name": "stdout",
     "text": "Original Array:\n\n  [1 2 3]\n\nFlipped Array: \n\n [3 2 1]\n\n"
    }
   ],
   "source": [
    "# Original array\n",
    "array = np.array([1, 2, 3])\n",
    "#Flipped array\n",
    "flipped_array = np.flipud(array)\n",
    "print(f'Original Array:\\n\\n  {array}\\n')\n",
    "print(f'Flipped Array: \\n\\n {flipped_array}\\n')"
   ]
  },
  {
   "cell_type": "markdown",
   "metadata": {},
   "source": [
    "- How to make a NumPy array read-only?"
   ]
  },
  {
   "cell_type": "markdown",
   "metadata": {},
   "source": [
    "\n",
    "\n"
   ]
  },
  {
   "cell_type": "code",
   "execution_count": 136,
   "metadata": {
    "tags": []
   },
   "outputs": [
    {
     "output_type": "stream",
     "name": "stdout",
     "text": "Original Array:\n\n  [17.  1.  1.  1.  1.]\n\nTrying change element:\n\n"
    },
    {
     "output_type": "error",
     "ename": "ValueError",
     "evalue": "assignment destination is read-only",
     "traceback": [
      "\u001b[0;31m---------------------------------------------------------------------------\u001b[0m",
      "\u001b[0;31mValueError\u001b[0m                                Traceback (most recent call last)",
      "\u001b[0;32m<ipython-input-136-ca333ac4b1ef>\u001b[0m in \u001b[0;36m<module>\u001b[0;34m\u001b[0m\n\u001b[1;32m      7\u001b[0m \u001b[0mprint\u001b[0m\u001b[0;34m(\u001b[0m\u001b[0;34mf'Trying change element:\\n'\u001b[0m\u001b[0;34m)\u001b[0m\u001b[0;34m\u001b[0m\u001b[0;34m\u001b[0m\u001b[0m\n\u001b[1;32m      8\u001b[0m \u001b[0;34m\u001b[0m\u001b[0m\n\u001b[0;32m----> 9\u001b[0;31m \u001b[0marray\u001b[0m\u001b[0;34m[\u001b[0m\u001b[0;36m1\u001b[0m\u001b[0;34m]\u001b[0m \u001b[0;34m=\u001b[0m \u001b[0;36m13\u001b[0m\u001b[0;34m\u001b[0m\u001b[0;34m\u001b[0m\u001b[0m\n\u001b[0m",
      "\u001b[0;31mValueError\u001b[0m: assignment destination is read-only"
     ]
    }
   ],
   "source": [
    "# Array that we can change\n",
    "array = np.ones(5)\n",
    "array[0] = 17\n",
    "print(f'Original Array:\\n\\n  {array}\\n')\n",
    "# Array that we can not change anymore, just read\n",
    "array.flags.writeable = False\n",
    "print(f'Trying change element:\\n')\n",
    "\n",
    "array[1] = 13"
   ]
  },
  {
   "cell_type": "markdown",
   "metadata": {},
   "source": [
    "# Questions on NumPy Matrix"
   ]
  },
  {
   "cell_type": "markdown",
   "metadata": {},
   "source": [
    "\n",
    "- Get the maximum value from given matrix"
   ]
  },
  {
   "cell_type": "code",
   "execution_count": 147,
   "metadata": {
    "tags": []
   },
   "outputs": [
    {
     "output_type": "stream",
     "name": "stdout",
     "text": "Max value in Array is: 93\n"
    }
   ],
   "source": [
    "# Random Seed\n",
    "np.random.seed(42)\n",
    "# Array of random integers between 1 and 99\n",
    "array_random_int = np.random.randint(1,100, size=(3,3))\n",
    "# Max value\n",
    "print(f'Max value in Array is: {np.max(array_random_int)}')"
   ]
  },
  {
   "cell_type": "markdown",
   "metadata": {},
   "source": [
    "- Get the minimum value from given matrix"
   ]
  },
  {
   "cell_type": "code",
   "execution_count": 148,
   "metadata": {
    "tags": []
   },
   "outputs": [
    {
     "output_type": "stream",
     "name": "stdout",
     "text": "Min value in Array is: 15\n"
    }
   ],
   "source": [
    "# Random Seed\n",
    "np.random.seed(42)\n",
    "# Array of random integers between 1 and 99\n",
    "array_random_int = np.random.randint(1,100, size=(3,3))\n",
    "# Min value\n",
    "print(f'Min value in Array is: {np.min(array_random_int)}')"
   ]
  },
  {
   "cell_type": "markdown",
   "metadata": {},
   "source": [
    "- Find the number of rows and columns of a given matrix using NumPy"
   ]
  },
  {
   "cell_type": "code",
   "execution_count": 150,
   "metadata": {
    "tags": []
   },
   "outputs": [
    {
     "output_type": "stream",
     "name": "stdout",
     "text": "Array of random integers has: 3 rows and 3 columns\n"
    }
   ],
   "source": [
    "print(f'Array of random integers has: {array_random_int.shape[0]} rows and {array_random_int.shape[1]} columns')"
   ]
  },
  {
   "cell_type": "markdown",
   "metadata": {},
   "source": [
    "- Select the elements from a given matrix"
   ]
  },
  {
   "cell_type": "code",
   "execution_count": 153,
   "metadata": {
    "tags": []
   },
   "outputs": [
    {
     "output_type": "stream",
     "name": "stdout",
     "text": "Array:\n\n[[52 93 15]\n [72 61 21]\n [83 87 75]]\n\nSelect all elements of first row:\n\n [52 93 15]\n\n"
    }
   ],
   "source": [
    "#Slicing of array\n",
    "print(f'Array:\\n\\n{array_random_int}\\n')\n",
    "print(f'Select all elements of first row:\\n\\n {array_random_int[0,:]}\\n')"
   ]
  },
  {
   "cell_type": "markdown",
   "metadata": {},
   "source": [
    "\n",
    "- Find the sum of values in a matrix"
   ]
  },
  {
   "cell_type": "code",
   "execution_count": 151,
   "metadata": {
    "tags": []
   },
   "outputs": [
    {
     "output_type": "stream",
     "name": "stdout",
     "text": "Sum of all elements of array: 559\n"
    }
   ],
   "source": [
    "print(f'Sum of all elements of array: {array_random_int.sum()}')"
   ]
  },
  {
   "cell_type": "markdown",
   "metadata": {},
   "source": [
    "- Calculate the sum of the diagonal elements of a NumPy array"
   ]
  },
  {
   "cell_type": "code",
   "execution_count": 155,
   "metadata": {
    "tags": []
   },
   "outputs": [
    {
     "output_type": "stream",
     "name": "stdout",
     "text": "Sum of Diagonal: 188\n"
    }
   ],
   "source": [
    "print(f'Sum of Diagonal: {np.trace(array_random_int)}')"
   ]
  },
  {
   "cell_type": "markdown",
   "metadata": {},
   "source": [
    "- Adding and Subtracting Matrices in Python"
   ]
  },
  {
   "cell_type": "code",
   "execution_count": 157,
   "metadata": {
    "tags": []
   },
   "outputs": [
    {
     "output_type": "stream",
     "name": "stdout",
     "text": "Adding arrays: \n\n[[3 4 5]\n [6 7 8]]\n\nSubtracting arrays: \n\n[[-1  0  1]\n [ 2  3  4]]\n\n"
    }
   ],
   "source": [
    "array1 = np.array([[1,2,3], [4, 5, 6]])\n",
    "array2 = np.array([[2, 2, 2], [2, 2, 2]])\n",
    "print(f'Adding arrays: \\n\\n{np.add(array1, array2)}\\n')\n",
    "print(f'Subtracting arrays: \\n\\n{np.subtract(array1, array2)}\\n')"
   ]
  },
  {
   "cell_type": "markdown",
   "metadata": {},
   "source": [
    "\n",
    "- Ways to add row/columns in numpy array"
   ]
  },
  {
   "cell_type": "markdown",
   "metadata": {},
   "source": [
    "\n",
    "- Matrix Multiplication in NumPy"
   ]
  },
  {
   "cell_type": "code",
   "execution_count": 161,
   "metadata": {
    "tags": []
   },
   "outputs": [
    {
     "output_type": "stream",
     "name": "stdout",
     "text": "Product of matrices: \n\n [[11 16]]\n"
    }
   ],
   "source": [
    "array1 = np.array([[1,2], [3, 4]])\n",
    "array2 = np.array([[2, 3]])\n",
    "print(f'Product of matrices: \\n\\n {np.dot(array2, array1)}')"
   ]
  },
  {
   "cell_type": "markdown",
   "metadata": {},
   "source": [
    "- Get the eigen values of a matrix"
   ]
  },
  {
   "cell_type": "code",
   "execution_count": 165,
   "metadata": {
    "tags": []
   },
   "outputs": [
    {
     "output_type": "stream",
     "name": "stdout",
     "text": "Eigenvalues: \n\n[170.86533267 -24.93072359  42.06539093]\n"
    }
   ],
   "source": [
    "eigenvalues, _ = np.linalg.eig(array_random_int)\n",
    "print(f'Eigenvalues: \\n\\n{eigenvalues}')"
   ]
  },
  {
   "cell_type": "markdown",
   "metadata": {},
   "source": [
    " - How to Calculate the determinant of a matrix using NumPy?"
   ]
  },
  {
   "cell_type": "code",
   "execution_count": 166,
   "metadata": {
    "tags": []
   },
   "outputs": [
    {
     "output_type": "stream",
     "name": "stdout",
     "text": "Det of Array: \n\n10.999999999999996\n"
    }
   ],
   "source": [
    "array = np.array([[5, 3], [3, 4]])\n",
    "print(f'Det of Array: \\n\\n{np.linalg.det(array)}')"
   ]
  },
  {
   "cell_type": "markdown",
   "metadata": {},
   "source": [
    "- How to inverse a matrix using NumPy"
   ]
  },
  {
   "cell_type": "code",
   "execution_count": 168,
   "metadata": {
    "tags": []
   },
   "outputs": [
    {
     "output_type": "stream",
     "name": "stdout",
     "text": "Inverse of Array: \n\n[[ 0.36363636 -0.27272727]\n [-0.27272727  0.45454545]]\n"
    }
   ],
   "source": [
    "print(f'Inverse of Array: \\n\\n{np.linalg.inv(array)}')"
   ]
  },
  {
   "cell_type": "markdown",
   "metadata": {},
   "source": [
    "- How to count the frequency of unique values in NumPy array?"
   ]
  },
  {
   "cell_type": "code",
   "execution_count": 169,
   "metadata": {
    "tags": []
   },
   "outputs": [
    {
     "output_type": "stream",
     "name": "stdout",
     "text": "Unique Elements: [1 2 3 5 6]\nFrequency Values: [2 3 3 1 1]\n"
    }
   ],
   "source": [
    "array = np.array([1, 2, 3, 3, 3, 2, 2, 1, 5, 6])\n",
    "unique_elements, frequency = np.unique(array, return_counts = True)\n",
    "print(f'Unique Elements: {unique_elements}')\n",
    "print(f'Frequency Values: {frequency}')"
   ]
  },
  {
   "cell_type": "markdown",
   "metadata": {},
   "source": [
    "- Multiply matrices of complex numbers using NumPy in Python"
   ]
  },
  {
   "cell_type": "code",
   "execution_count": 174,
   "metadata": {
    "tags": []
   },
   "outputs": [
    {
     "output_type": "stream",
     "name": "stdout",
     "text": "Product of complex arrays:  \n\n(70-8j)\n"
    }
   ],
   "source": [
    "array_complex1 = np.array([1+2j, 3+4j])\n",
    "array_complex2 = np.array([5+6j, 7+8j])\n",
    "\n",
    "print(f'Product of complex arrays:  \\n\\n{np.vdot(array_complex1, array_complex2)}')"
   ]
  },
  {
   "cell_type": "markdown",
   "metadata": {},
   "source": [
    "- Compute the outer product of two given vectors using NumPy in Python"
   ]
  },
  {
   "cell_type": "code",
   "execution_count": 176,
   "metadata": {
    "tags": []
   },
   "outputs": [
    {
     "output_type": "stream",
     "name": "stdout",
     "text": "Outer Product of arrays:  \n\n[[3 4]\n [6 8]]\n"
    }
   ],
   "source": [
    "array1 = np.array([1,2])\n",
    "array2 = np.array([3,4])\n",
    "print(f'Outer Product of arrays:  \\n\\n{np.outer(array1, array2)}')"
   ]
  },
  {
   "cell_type": "markdown",
   "metadata": {},
   "source": [
    "- Calculate inner, outer, and cross products of matrices and vectors using NumPy"
   ]
  },
  {
   "cell_type": "code",
   "execution_count": 177,
   "metadata": {
    "tags": []
   },
   "outputs": [
    {
     "output_type": "stream",
     "name": "stdout",
     "text": "Innert Product: \n\n [[10  6]\n [65 59]]\n\nOuter Product: \n\n [[ 0  0  0  0  0  0]\n [24  9  3 12  3  9]\n [ 8  3  1  4  1  3]\n [32 12  4 16  4 12]\n [56 21  7 28  7 21]\n [96 36 12 48 12 36]]\n\nCross Product: \n\n [[  0   8 -24]\n [  9  36 -24]]\n\n"
    }
   ],
   "source": [
    "array1 = np.array([[0, 3, 1], [4, 7, 12]])\n",
    "array2 = np.array([[8, 3, 1], [4, 1, 3]])\n",
    "\n",
    "print(f'Innert Product: \\n\\n {np.inner(array1, array2)}\\n')\n",
    "print(f'Outer Product: \\n\\n {np.outer(array1, array2)}\\n')\n",
    "print(f'Cross Product: \\n\\n {np.cross(array1, array2)}\\n')\n"
   ]
  },
  {
   "cell_type": "markdown",
   "metadata": {},
   "source": [
    "\n",
    "- Compute the covariance matrix of two given NumPy arrays"
   ]
  },
  {
   "cell_type": "code",
   "execution_count": 182,
   "metadata": {
    "tags": []
   },
   "outputs": [
    {
     "output_type": "stream",
     "name": "stdout",
     "text": "Covariance Matrix of Two Arrays: \n\n[[ 2964.5 -3003.   -154.  -1078. ]\n [-3003.   3042.    156.   1092. ]\n [ -154.    156.      8.     56. ]\n [-1078.   1092.     56.    392. ]]\n"
    }
   ],
   "source": [
    "np.random.seed(42)\n",
    "array1 = np.random.randint(1,200, (2,2))\n",
    "np.random.seed(43)\n",
    "array2 = np.random.randint(1,200, (2,2))\n",
    "array_cov = np.cov(array1, array2)\n",
    "print(f'Covariance Matrix of Two Arrays: \\n\\n{array_cov}')"
   ]
  },
  {
   "cell_type": "markdown",
   "metadata": {},
   "source": [
    "\n",
    "- Convert covariance matrix to correlation matrix using Python"
   ]
  },
  {
   "cell_type": "code",
   "execution_count": 183,
   "metadata": {
    "tags": []
   },
   "outputs": [
    {
     "output_type": "stream",
     "name": "stdout",
     "text": "Correlation Matrix: \n\n[[ 1. -1. -1. -1.]\n [-1.  1.  1.  1.]\n [-1.  1.  1.  1.]\n [-1.  1.  1.  1.]]\n"
    }
   ],
   "source": [
    "v = np.sqrt(np.diag(array_cov))\n",
    "array_outer = np.outer(v, v)\n",
    "array_correlation = array_cov / array_outer\n",
    "print(f'Correlation Matrix: \\n\\n{array_correlation}')"
   ]
  },
  {
   "cell_type": "markdown",
   "metadata": {},
   "source": [
    "\n",
    "- Compute the Kronecker product of two mulitdimension NumPy arrays"
   ]
  },
  {
   "cell_type": "code",
   "execution_count": 185,
   "metadata": {
    "tags": []
   },
   "outputs": [
    {
     "output_type": "stream",
     "name": "stdout",
     "text": "Array 1: \n\n[[103 180]\n [ 93  15]]\nArray 2: \n\n[[69 65]\n [50 22]]\nKronecker Product: \n\n[[ 7107  6695 12420 11700]\n [ 5150  2266  9000  3960]\n [ 6417  6045  1035   975]\n [ 4650  2046   750   330]]\n"
    }
   ],
   "source": [
    "print(f'Array 1: \\n\\n{array1}')\n",
    "print(f'Array 2: \\n\\n{array2}')\n",
    "print(f'Kronecker Product: \\n\\n{np.kron(array1, array2)}')"
   ]
  },
  {
   "cell_type": "markdown",
   "metadata": {},
   "source": [
    "\n",
    "- Convert the matrix into a list"
   ]
  },
  {
   "cell_type": "code",
   "execution_count": 192,
   "metadata": {
    "tags": []
   },
   "outputs": [
    {
     "output_type": "stream",
     "name": "stdout",
     "text": "Original Array: \n\n[[103 180]\n [ 93  15]]\nArray to list: [[103, 180], [93, 15]]\n"
    }
   ],
   "source": [
    "print(f'Original Array: \\n\\n{array1}')\n",
    "print(f'Array to list: {array1.tolist()}')\n"
   ]
  },
  {
   "cell_type": "markdown",
   "metadata": {},
   "source": [
    "# Questions on NumPy Indexing"
   ]
  },
  {
   "cell_type": "markdown",
   "metadata": {},
   "source": [
    "\n",
    "- Replace NumPy array elements that doesn’t satisfy the given condition"
   ]
  },
  {
   "cell_type": "code",
   "execution_count": 198,
   "metadata": {
    "tags": []
   },
   "outputs": [
    {
     "output_type": "stream",
     "name": "stdout",
     "text": "Original Array: \n\n[[1 2 3]\n [2 5 5]]\nOriginal Array: \n\n[[1 2 3]\n [2 0 0]]\n"
    }
   ],
   "source": [
    "array = np.array([[1, 2, 3],\n",
    "                  [2, 5, 5]])\n",
    "\n",
    "print(f'Original Array: \\n\\n{array}')\n",
    "# Substituting 5 with 0\n",
    "array[array==5] = 0\n",
    "print(f'Original Array: \\n\\n{array}')"
   ]
  },
  {
   "cell_type": "markdown",
   "metadata": {},
   "source": [
    "\n",
    "- Return the indices of elements where the given condition is satisfied"
   ]
  },
  {
   "cell_type": "code",
   "execution_count": 201,
   "metadata": {
    "tags": []
   },
   "outputs": [
    {
     "output_type": "stream",
     "name": "stdout",
     "text": "Indicex of elements < 5: (array([0, 0, 0, 1]), array([0, 1, 2, 0]))\n"
    }
   ],
   "source": [
    "array = np.array([[1, 2, 3],\n",
    "                  [2, 5, 5]])\n",
    "filter_condition = np.where(array<5)\n",
    "print(f'Indicex of elements < 5: {filter_condition}')"
   ]
  },
  {
   "cell_type": "markdown",
   "metadata": {},
   "source": [
    "- Replace NaN values with average of columns"
   ]
  },
  {
   "cell_type": "markdown",
   "metadata": {},
   "source": [
    "\n",
    "- Replace negative value with zero in numpy array\n"
   ]
  },
  {
   "cell_type": "code",
   "execution_count": 204,
   "metadata": {},
   "outputs": [
    {
     "output_type": "execute_result",
     "data": {
      "text/plain": "array([0, 0, 3, 4, 5, 0])"
     },
     "metadata": {},
     "execution_count": 204
    }
   ],
   "source": [
    "array = np.array([-1, -2, 3, 4, 5, -6])\n",
    "array[array<0] = 0\n",
    "array"
   ]
  },
  {
   "cell_type": "markdown",
   "metadata": {},
   "source": [
    "- How to get values of an NumPy array at certain index positions?"
   ]
  },
  {
   "cell_type": "code",
   "execution_count": 240,
   "metadata": {},
   "outputs": [
    {
     "output_type": "execute_result",
     "data": {
      "text/plain": "array([13,  3,  6,  7, 63])"
     },
     "metadata": {},
     "execution_count": 240
    }
   ],
   "source": [
    "# Putting array2 in position 0, 1 and 4 of array1\n",
    "array1 = np.array([1, 8, 6, 7, 30])\n",
    "array2 = np.array([13, 3, 63])\n",
    "array1.put([0, 1, 4], array2)\n",
    "array1"
   ]
  },
  {
   "cell_type": "markdown",
   "metadata": {},
   "source": [
    "- Find indices of elements equal to zero in a NumPy array"
   ]
  },
  {
   "cell_type": "code",
   "execution_count": 209,
   "metadata": {
    "tags": []
   },
   "outputs": [
    {
     "output_type": "stream",
     "name": "stdout",
     "text": "Indicex of elements = 0: [1]\n"
    }
   ],
   "source": [
    "array = np.array([1, 0, 3])\n",
    "filter_condition = np.where(array==0)\n",
    "print(f'Indicex of elements = 0: {filter_condition[0]}')"
   ]
  },
  {
   "cell_type": "markdown",
   "metadata": {},
   "source": [
    "- How to Remove columns in Numpy array that contains non-numeric values?"
   ]
  },
  {
   "cell_type": "code",
   "execution_count": 215,
   "metadata": {},
   "outputs": [
    {
     "output_type": "execute_result",
     "data": {
      "text/plain": "array([[ 1.,  3.],\n       [ 4.,  6.],\n       [71., 19.]])"
     },
     "metadata": {},
     "execution_count": 215
    }
   ],
   "source": [
    "array = np.array([[1,2,3], [4,np.nan,6], [71,81,19]])\n",
    "array[:,~np.isnan(array).any(axis=1)]"
   ]
  },
  {
   "cell_type": "markdown",
   "metadata": {},
   "source": [
    "- How to access different rows of a multidimensional NumPy array?"
   ]
  },
  {
   "cell_type": "code",
   "execution_count": 216,
   "metadata": {},
   "outputs": [
    {
     "output_type": "execute_result",
     "data": {
      "text/plain": "array([[ 13,   5,  63],\n       [ 23, 100,  23]])"
     },
     "metadata": {},
     "execution_count": 216
    }
   ],
   "source": [
    "array = np.array([[1, 2, 3], \n",
    "                  [13, 5, 63], \n",
    "                  [71, 12, 45],\n",
    "                  [23, 100, 23]])\n",
    "array[[1,3]]"
   ]
  },
  {
   "cell_type": "markdown",
   "metadata": {},
   "source": [
    "1\n",
    "- Get row numbers of NumPy array having element larger than X"
   ]
  },
  {
   "cell_type": "code",
   "execution_count": 227,
   "metadata": {
    "tags": []
   },
   "outputs": [
    {
     "output_type": "stream",
     "name": "stdout",
     "text": "Array: \n\n[[19 11 17 39]\n [35 26 36 27]\n [ 3 38 14 11]\n [10 12  3 33]]\n\nRow indices: \n\n(array([0, 1, 2]),)\n"
    }
   ],
   "source": [
    "\n",
    "\n",
    "np.random.seed(13)\n",
    "array_random_int = np.random.randint(1,45, (4,4))\n",
    "number = 35\n",
    "print(f'Array: \\n\\n{array_random_int}\\n')\n",
    "print(f'Row indices: \\n\\n{np.where(np.any(array_random_int > number, axis = 1))}')\n"
   ]
  },
  {
   "cell_type": "markdown",
   "metadata": {},
   "source": [
    "- Get filled the diagonals of NumPy array"
   ]
  },
  {
   "cell_type": "code",
   "execution_count": 236,
   "metadata": {
    "tags": []
   },
   "outputs": [
    {
     "output_type": "stream",
     "name": "stdout",
     "text": "Original Array:\n\n [[19 17 11 17]\n [ 7  3 21 26]\n [13 27  4 27]\n [21  3 15 23]]\nNew Diagonal Array: \n\n[[ 5 17 11 17]\n [ 7  5 21 26]\n [13 27  5 27]\n [21  3 15  5]]\n"
    }
   ],
   "source": [
    "np.random.seed(13)\n",
    "array_random_int = np.random.randint(1,30, (4,4))\n",
    "print(f'Original Array:\\n\\n {array_random_int}')\n",
    "np.fill_diagonal(array_random_int, 5)\n",
    "print(f'New Diagonal Array: \\n\\n{array_random_int}')"
   ]
  },
  {
   "cell_type": "markdown",
   "metadata": {},
   "source": [
    "- Check elements present in the NumPy array"
   ]
  },
  {
   "cell_type": "code",
   "execution_count": 237,
   "metadata": {
    "tags": []
   },
   "outputs": [
    {
     "output_type": "stream",
     "name": "stdout",
     "text": "False\nTrue\n"
    }
   ],
   "source": [
    "array = np.array([12,2,3,4])\n",
    "print(27 in array)\n",
    "print(12 in array)"
   ]
  },
  {
   "cell_type": "markdown",
   "metadata": {},
   "source": [
    "# Questions on NumPy Linear Algebra"
   ]
  },
  {
   "cell_type": "markdown",
   "metadata": {},
   "source": [
    "- Find a matrix or vector norm using NumPy"
   ]
  },
  {
   "cell_type": "code",
   "execution_count": 241,
   "metadata": {},
   "outputs": [
    {
     "output_type": "execute_result",
     "data": {
      "text/plain": "9.539392014169456"
     },
     "metadata": {},
     "execution_count": 241
    }
   ],
   "source": [
    "array = np.array([[ 1, 2, 3],\n",
    "               [4, 5, 6]])\n",
    "np.linalg.norm(array)"
   ]
  },
  {
   "cell_type": "markdown",
   "metadata": {},
   "source": [
    "- Calculate the QR decomposition of a given matrix using NumPy"
   ]
  },
  {
   "cell_type": "code",
   "execution_count": 242,
   "metadata": {
    "tags": []
   },
   "outputs": [
    {
     "output_type": "stream",
     "name": "stdout",
     "text": "\nQ:\n [[-0.24253563 -0.9701425 ]\n [-0.9701425   0.24253563]]\n\nR:\n [[-4.12310563 -5.33578375 -6.54846188]\n [ 0.         -0.72760688 -1.45521375]]\n"
    }
   ],
   "source": [
    "Q, R = np.linalg.qr(array)\n",
    "print('\\nQ:\\n', Q)\n",
    "print('\\nR:\\n', R)"
   ]
  },
  {
   "cell_type": "markdown",
   "metadata": {},
   "source": [
    "- Compute the condition number of a given matrix using NumPy"
   ]
  },
  {
   "cell_type": "code",
   "execution_count": 243,
   "metadata": {},
   "outputs": [
    {
     "output_type": "execute_result",
     "data": {
      "text/plain": "12.302245504069202"
     },
     "metadata": {},
     "execution_count": 243
    }
   ],
   "source": [
    "np.linalg.cond(array)"
   ]
  },
  {
   "cell_type": "markdown",
   "metadata": {},
   "source": [
    "- Compute the eigenvalues and right eigenvectors of a given square array using NumPy?"
   ]
  },
  {
   "cell_type": "code",
   "execution_count": 244,
   "metadata": {
    "tags": []
   },
   "outputs": [
    {
     "output_type": "stream",
     "name": "stdout",
     "text": "Eigenvalues:\n [-0.23606798  4.23606798]\nRight Eigenvectors:\n [[-0.85065081 -0.52573111]\n [ 0.52573111 -0.85065081]]\n"
    }
   ],
   "source": [
    "array = np.array([[1, 2],\n",
    "              [2, 3]])\n",
    "\n",
    "w, v = np.linalg.eig(array)\n",
    "  \n",
    "print(f'Eigenvalues:\\n {w}')\n",
    "\n",
    "print(f'Right Eigenvectors:\\n {v}')"
   ]
  },
  {
   "cell_type": "markdown",
   "metadata": {},
   "source": [
    "- Calculate the Euclidean distance using NumPy"
   ]
  },
  {
   "cell_type": "code",
   "execution_count": 245,
   "metadata": {},
   "outputs": [
    {
     "output_type": "execute_result",
     "data": {
      "text/plain": "5.0"
     },
     "metadata": {},
     "execution_count": 245
    }
   ],
   "source": [
    "array1 = np.array([9,16])\n",
    "array2 = np.array([6, 12])\n",
    "\n",
    "np.linalg.norm(array1 - array2)"
   ]
  },
  {
   "cell_type": "markdown",
   "metadata": {},
   "source": [
    "# Questions on NumPy Random"
   ]
  },
  {
   "cell_type": "markdown",
   "metadata": {},
   "source": [
    "- Create a Numpy array with random values"
   ]
  },
  {
   "cell_type": "code",
   "execution_count": 247,
   "metadata": {},
   "outputs": [
    {
     "output_type": "execute_result",
     "data": {
      "text/plain": "array([[0.69646919, 0.28613933, 0.22685145],\n       [0.55131477, 0.71946897, 0.42310646],\n       [0.9807642 , 0.68482974, 0.4809319 ]])"
     },
     "metadata": {},
     "execution_count": 247
    }
   ],
   "source": [
    "np.random.seed(123)\n",
    "array = np.random.rand(3,3)\n",
    "array"
   ]
  },
  {
   "cell_type": "markdown",
   "metadata": {},
   "source": [
    "- How to choose elements from the list with different probability using NumPy?"
   ]
  },
  {
   "cell_type": "code",
   "execution_count": 254,
   "metadata": {},
   "outputs": [
    {
     "output_type": "execute_result",
     "data": {
      "text/plain": "array([3, 5, 3])"
     },
     "metadata": {},
     "execution_count": 254
    }
   ],
   "source": [
    "np.random.seed(123)\n",
    "list_ = [1,2,3,4,5]\n",
    "np.random.choice(list_, 3)"
   ]
  },
  {
   "cell_type": "markdown",
   "metadata": {},
   "source": [
    "\n",
    "- How to get weighted random choice in Python?"
   ]
  },
  {
   "cell_type": "code",
   "execution_count": 259,
   "metadata": {},
   "outputs": [
    {
     "output_type": "execute_result",
     "data": {
      "text/plain": "array([3, 1, 1])"
     },
     "metadata": {},
     "execution_count": 259
    }
   ],
   "source": [
    "np.random.seed(123)\n",
    "np.random.choice(list_, 3, p=[0.5, 0.1, 0.1, 0.15, 0.15])"
   ]
  },
  {
   "cell_type": "markdown",
   "metadata": {},
   "source": [
    "- Generate Random Numbers From The Uniform Distribution using NumPy"
   ]
  },
  {
   "cell_type": "code",
   "execution_count": 267,
   "metadata": {},
   "outputs": [
    {
     "output_type": "execute_result",
     "data": {
      "text/plain": "array([0.69646919, 0.28613933, 0.22685145, 0.55131477, 0.71946897])"
     },
     "metadata": {},
     "execution_count": 267
    }
   ],
   "source": [
    "np.random.seed(123)\n",
    "np.random.uniform(low=0.0, high=1.0, size=5)"
   ]
  },
  {
   "cell_type": "markdown",
   "metadata": {},
   "source": [
    "- Get Random Elements form geometric distribution"
   ]
  },
  {
   "cell_type": "code",
   "execution_count": 268,
   "metadata": {},
   "outputs": [
    {
     "output_type": "execute_result",
     "data": {
      "text/plain": "array([8, 3, 2, 5, 8])"
     },
     "metadata": {},
     "execution_count": 268
    }
   ],
   "source": [
    "np.random.seed(123)\n",
    "np.random.geometric(p=0.15, size=5)"
   ]
  },
  {
   "cell_type": "markdown",
   "metadata": {},
   "source": [
    "\n",
    "- Get Random elements from Laplace distribution"
   ]
  },
  {
   "cell_type": "code",
   "execution_count": 271,
   "metadata": {},
   "outputs": [
    {
     "output_type": "execute_result",
     "data": {
      "text/plain": "array([ 0.59912496, -0.45812922, -0.69031268,  0.2082865 ,  0.67792375])"
     },
     "metadata": {},
     "execution_count": 271
    }
   ],
   "source": [
    "np.random.seed(123)\n",
    "np.random.laplace(0.1, 1, 5)"
   ]
  },
  {
   "cell_type": "markdown",
   "metadata": {},
   "source": [
    "- Return a Matrix of random values from a uniform distribution"
   ]
  },
  {
   "cell_type": "code",
   "execution_count": 273,
   "metadata": {},
   "outputs": [
    {
     "output_type": "execute_result",
     "data": {
      "text/plain": "array([[0.73799541, 0.18249173, 0.17545176],\n       [0.53155137, 0.53182759, 0.63440096],\n       [0.84943179, 0.72445532, 0.61102351]])"
     },
     "metadata": {},
     "execution_count": 273
    }
   ],
   "source": [
    "np.random.seed(123)\n",
    "np.random.uniform(0,1,size=(3,3))"
   ]
  },
  {
   "cell_type": "markdown",
   "metadata": {},
   "source": [
    "- Return a Matrix of random values from a Gaussian distribution\n"
   ]
  },
  {
   "cell_type": "code",
   "execution_count": 272,
   "metadata": {},
   "outputs": [
    {
     "output_type": "execute_result",
     "data": {
      "text/plain": "array([[ 0.96631821, -0.15455316, -0.61260289],\n       [ 5.9380453 , -4.8579002 , -3.34189325],\n       [-1.34232216,  5.00520484, -0.43011742]])"
     },
     "metadata": {},
     "execution_count": 272
    }
   ],
   "source": [
    "np.random.seed(123)\n",
    "np.random.normal(0,3, size=(3,3))"
   ]
  },
  {
   "cell_type": "markdown",
   "metadata": {},
   "source": [
    "# Questions on NumPy Sorting and Searching"
   ]
  },
  {
   "cell_type": "markdown",
   "metadata": {},
   "source": [
    "- How to get the indices of the sorted array using NumPy in Python?"
   ]
  },
  {
   "cell_type": "code",
   "execution_count": 274,
   "metadata": {},
   "outputs": [
    {
     "output_type": "execute_result",
     "data": {
      "text/plain": "array([1, 0, 2, 6, 5, 3, 4])"
     },
     "metadata": {},
     "execution_count": 274
    }
   ],
   "source": [
    "array = np.array([2, 1, 3, 15, 20, 5, 4])\n",
    "np.argsort(array)"
   ]
  },
  {
   "cell_type": "markdown",
   "metadata": {},
   "source": [
    "- Finding the k smallest values of a NumPy array"
   ]
  },
  {
   "cell_type": "code",
   "execution_count": 275,
   "metadata": {},
   "outputs": [
    {
     "output_type": "execute_result",
     "data": {
      "text/plain": "array([1, 2, 3])"
     },
     "metadata": {},
     "execution_count": 275
    }
   ],
   "source": [
    "k = 3\n",
    "array_sorted = np.sort(array)\n",
    "array_sorted[:k]"
   ]
  },
  {
   "cell_type": "markdown",
   "metadata": {},
   "source": [
    "- How to get the n-largest values of an array using NumPy?"
   ]
  },
  {
   "cell_type": "code",
   "execution_count": 276,
   "metadata": {},
   "outputs": [
    {
     "output_type": "execute_result",
     "data": {
      "text/plain": "array([ 5, 15, 20])"
     },
     "metadata": {},
     "execution_count": 276
    }
   ],
   "source": [
    "k = 3\n",
    "sorted_array = array[np.argsort(array)]\n",
    "sorted_array[-k: ]"
   ]
  },
  {
   "cell_type": "markdown",
   "metadata": {},
   "source": [
    "- Sort the values in a matrix"
   ]
  },
  {
   "cell_type": "code",
   "execution_count": 286,
   "metadata": {
    "tags": []
   },
   "outputs": [
    {
     "output_type": "stream",
     "name": "stdout",
     "text": "\n [[1 5]\n [2 4]] \n\n\n [[1 4]\n [2 5]] \n\n"
    }
   ],
   "source": [
    "array = np.array([[1,5], [4,2]])\n",
    "array.sort(axis=1)\n",
    "print('\\n', array, '\\n')\n",
    "array.sort(axis=0)\n",
    "print('\\n', array, '\\n')"
   ]
  },
  {
   "cell_type": "markdown",
   "metadata": {},
   "source": [
    "- Filter out integers from float numpy array"
   ]
  },
  {
   "cell_type": "code",
   "execution_count": 289,
   "metadata": {
    "tags": []
   },
   "outputs": [
    {
     "output_type": "execute_result",
     "data": {
      "text/plain": "array([2.5 , 3.09])"
     },
     "metadata": {},
     "execution_count": 289
    }
   ],
   "source": [
    "array = np.array([1, 2.0, 2.5, 3.09])\n",
    "array[array != array.astype(int)]"
   ]
  },
  {
   "cell_type": "markdown",
   "metadata": {},
   "source": [
    "- Find the indices into a sorted array"
   ]
  },
  {
   "cell_type": "code",
   "execution_count": 298,
   "metadata": {},
   "outputs": [
    {
     "output_type": "execute_result",
     "data": {
      "text/plain": "3"
     },
     "metadata": {},
     "execution_count": 298
    }
   ],
   "source": [
    "np.searchsorted(array, 3)"
   ]
  },
  {
   "cell_type": "markdown",
   "metadata": {},
   "source": [
    "# Questions on NumPy Mathematics"
   ]
  },
  {
   "cell_type": "markdown",
   "metadata": {},
   "source": [
    "- How to get element-wise true division of an array using Numpy?\n"
   ]
  },
  {
   "cell_type": "code",
   "execution_count": 301,
   "metadata": {},
   "outputs": [
    {
     "output_type": "execute_result",
     "data": {
      "text/plain": "array([-0.5,  1. ,  1.5,  2. ])"
     },
     "metadata": {},
     "execution_count": 301
    }
   ],
   "source": [
    "array = [-1, 2, 3, 4]\n",
    "np.true_divide(array, 2)"
   ]
  },
  {
   "cell_type": "markdown",
   "metadata": {},
   "source": [
    "- How to calculate the element-wise absolute value of NumPy array?"
   ]
  },
  {
   "cell_type": "code",
   "execution_count": 302,
   "metadata": {},
   "outputs": [
    {
     "output_type": "execute_result",
     "data": {
      "text/plain": "array([1, 2, 3, 4])"
     },
     "metadata": {},
     "execution_count": 302
    }
   ],
   "source": [
    "np.absolute(array)"
   ]
  },
  {
   "cell_type": "markdown",
   "metadata": {},
   "source": [
    "\n",
    "- Compute the negative of the NumPy array"
   ]
  },
  {
   "cell_type": "code",
   "execution_count": 303,
   "metadata": {},
   "outputs": [
    {
     "output_type": "execute_result",
     "data": {
      "text/plain": "array([ 1, -2, -3, -4])"
     },
     "metadata": {},
     "execution_count": 303
    }
   ],
   "source": [
    "np.negative(array)"
   ]
  },
  {
   "cell_type": "markdown",
   "metadata": {},
   "source": [
    "- Multiply 2d numpy array corresponding to 1d array"
   ]
  },
  {
   "cell_type": "code",
   "execution_count": 304,
   "metadata": {},
   "outputs": [
    {
     "output_type": "execute_result",
     "data": {
      "text/plain": "array([[ 1,  2,  3],\n       [ 8, 10, 12],\n       [21, 24, 27]])"
     },
     "metadata": {},
     "execution_count": 304
    }
   ],
   "source": [
    "  \n",
    "array1 = np.array([[1, 2, 3], [4, 5, 6], [7, 8, 9]])\n",
    "array2 = np.array([1, 2, 3])\n",
    "array1 * array2[:, np.newaxis]\n"
   ]
  },
  {
   "cell_type": "markdown",
   "metadata": {},
   "source": [
    "- Computes the inner product of two arrays"
   ]
  },
  {
   "cell_type": "code",
   "execution_count": 306,
   "metadata": {},
   "outputs": [
    {
     "output_type": "execute_result",
     "data": {
      "text/plain": "38"
     },
     "metadata": {},
     "execution_count": 306
    }
   ],
   "source": [
    "array1 = np.array([2,3,4])\n",
    "array2 = np.array([1,4,6])\n",
    "np.inner(array1, array2)"
   ]
  },
  {
   "cell_type": "markdown",
   "metadata": {},
   "source": [
    "\n",
    "- Compute the nth percentile of the NumPy array"
   ]
  },
  {
   "cell_type": "code",
   "execution_count": 314,
   "metadata": {},
   "outputs": [
    {
     "output_type": "execute_result",
     "data": {
      "text/plain": "25.75"
     },
     "metadata": {},
     "execution_count": 314
    }
   ],
   "source": [
    "array = np.arange(1,101)\n",
    "np.percentile(array, q=25)"
   ]
  },
  {
   "cell_type": "markdown",
   "metadata": {},
   "source": [
    "\n",
    "\n",
    "- Calculate the n-th order discrete difference along the given axis"
   ]
  },
  {
   "cell_type": "code",
   "execution_count": 317,
   "metadata": {
    "tags": []
   },
   "outputs": [
    {
     "output_type": "stream",
     "name": "stdout",
     "text": "Second order difference :  [ 40 -76 115]\nThird order difference  :  [-116  191]\n"
    }
   ],
   "source": [
    "\n",
    "array = np.array([1, 3, 45, 11, 92])\n",
    "print(\"Second order difference : \", np.diff(array, n = 2))\n",
    "print(\"Third order difference  : \", np.diff(array, n = 3))"
   ]
  },
  {
   "cell_type": "markdown",
   "metadata": {},
   "source": [
    "\n",
    "- Calculate the sum of all columns in a 2D NumPy array"
   ]
  },
  {
   "cell_type": "code",
   "execution_count": 320,
   "metadata": {
    "tags": []
   },
   "outputs": [
    {
     "output_type": "stream",
     "name": "stdout",
     "text": "Array: [[ 5 17 11 17]\n [ 7  5 21 26]\n [13 27  5 27]\n [21  3 15  5]]\nSum of columns: [46 52 52 75]\n"
    }
   ],
   "source": [
    "print(f'Array: {array_random_int}')\n",
    "print(f'Sum of columns: {array_random_int.sum(axis=0)}')"
   ]
  },
  {
   "cell_type": "markdown",
   "metadata": {},
   "source": [
    "- Calculate average values of two given NumPy arrays"
   ]
  },
  {
   "cell_type": "code",
   "execution_count": 323,
   "metadata": {
    "tags": []
   },
   "outputs": [
    {
     "output_type": "stream",
     "name": "stdout",
     "text": "Array 1:[1 2 3]\nArray 2:[4 5 6]\nMean Array:[2.5 3.5 4.5]\n"
    }
   ],
   "source": [
    "array1 = np.array([1,2,3])\n",
    "array2 = np.array([4, 5, 6])\n",
    "mean_array = (array1+array2)/2\n",
    "print(f'Array 1:{array1}')\n",
    "print(f'Array 2:{array2}')\n",
    "print(f'Mean Array:{mean_array}')"
   ]
  },
  {
   "cell_type": "markdown",
   "metadata": {},
   "source": [
    "\n",
    "- How to compute numerical negative value for all elements in a given NumPy array?"
   ]
  },
  {
   "cell_type": "code",
   "execution_count": 330,
   "metadata": {
    "tags": []
   },
   "outputs": [
    {
     "output_type": "stream",
     "name": "stdout",
     "text": "Original Array: \n\n[[ 5 17 11 17]\n [ 7  5 21 26]\n [13 27  5 27]\n [21  3 15  5]]\n\nNegative Array: \n\n [[ -5 -17 -11 -17]\n [ -7  -5 -21 -26]\n [-13 -27  -5 -27]\n [-21  -3 -15  -5]]\n"
    }
   ],
   "source": [
    "print(f'Original Array: \\n\\n{array_random_int}\\n')\n",
    "print(f'Negative Array: \\n\\n {np.negative(array_random_int)}')"
   ]
  },
  {
   "cell_type": "markdown",
   "metadata": {},
   "source": [
    "- How to get the floor, ceiling and truncated values of the elements of a numpy array?"
   ]
  },
  {
   "cell_type": "code",
   "execution_count": 333,
   "metadata": {
    "tags": []
   },
   "outputs": [
    {
     "output_type": "stream",
     "name": "stdout",
     "text": "Floor: [-2. -2.  0. -1.  1.  1.  3.]\nCeil: [-1. -1.  1. -0.  2.  2.  4.]\nTrunc: [-1. -1.  0. -0.  1.  1.  3.]\n"
    }
   ],
   "source": [
    "array = np.array([-1.2, -1.4, 0.54, -0.5,\n",
    "              1.62, 1.833, 3.1])\n",
    "print(f'Floor: {np.floor(array)}')\n",
    "print(f'Ceil: {np.ceil(array)}')\n",
    "print(f'Trunc: {np.trunc(array)}')"
   ]
  },
  {
   "cell_type": "markdown",
   "metadata": {},
   "source": [
    "\n",
    "- How to round elements of the NumPy array to the nearest integer?"
   ]
  },
  {
   "cell_type": "code",
   "execution_count": 334,
   "metadata": {},
   "outputs": [
    {
     "output_type": "execute_result",
     "data": {
      "text/plain": "array([-1., -1.,  1., -0.,  2.,  2.,  3.])"
     },
     "metadata": {},
     "execution_count": 334
    }
   ],
   "source": [
    "np.rint(array)"
   ]
  },
  {
   "cell_type": "markdown",
   "metadata": {},
   "source": [
    "\n",
    "\n",
    "- Find the round off the values of the given matrix"
   ]
  },
  {
   "cell_type": "code",
   "execution_count": 335,
   "metadata": {},
   "outputs": [
    {
     "output_type": "execute_result",
     "data": {
      "text/plain": "array([-1., -1.,  1., -0.,  2.,  2.,  3.])"
     },
     "metadata": {},
     "execution_count": 335
    }
   ],
   "source": [
    "array.round()"
   ]
  },
  {
   "cell_type": "markdown",
   "metadata": {},
   "source": [
    "\n",
    "- Determine the positive square-root of an array"
   ]
  },
  {
   "cell_type": "code",
   "execution_count": 336,
   "metadata": {},
   "outputs": [
    {
     "output_type": "execute_result",
     "data": {
      "text/plain": "array([2., 3., 4., 5.])"
     },
     "metadata": {},
     "execution_count": 336
    }
   ],
   "source": [
    "array = np.array([4, 9, 16, 25])\n",
    "np.sqrt(array)"
   ]
  },
  {
   "cell_type": "markdown",
   "metadata": {},
   "source": [
    "- Evaluate Einstein’s summation convention of two multidimensional NumPy arrays"
   ]
  },
  {
   "cell_type": "code",
   "execution_count": 342,
   "metadata": {},
   "outputs": [
    {
     "output_type": "execute_result",
     "data": {
      "text/plain": "array([[  86,   41],\n       [1161,  108]])"
     },
     "metadata": {},
     "execution_count": 342
    }
   ],
   "source": [
    "array1 = np.array([[1, 2], [0, 27]])\n",
    "array2 = np.array([[0, 33], [43, 4]])\n",
    "np.einsum('mk,kn',array1, array2)"
   ]
  },
  {
   "cell_type": "markdown",
   "metadata": {},
   "source": [
    "# Questions on NumPy Statistics"
   ]
  },
  {
   "cell_type": "markdown",
   "metadata": {},
   "source": [
    "- Compute the median of the flattened NumPy array"
   ]
  },
  {
   "cell_type": "code",
   "execution_count": 343,
   "metadata": {},
   "outputs": [
    {
     "output_type": "execute_result",
     "data": {
      "text/plain": "5.5"
     },
     "metadata": {},
     "execution_count": 343
    }
   ],
   "source": [
    "array = np.array([1,2,3,4,5,6,7,8,9,10])\n",
    "np.median(array.flatten())"
   ]
  },
  {
   "cell_type": "markdown",
   "metadata": {},
   "source": [
    "- Find Mean of a List of Numpy Array"
   ]
  },
  {
   "cell_type": "code",
   "execution_count": 345,
   "metadata": {
    "tags": []
   },
   "outputs": [
    {
     "output_type": "stream",
     "name": "stdout",
     "text": "19.0\n17.0\n42.333333333333336\n"
    }
   ],
   "source": [
    "# List of arrays\n",
    "list_arrays = [np.array([11, 5, 41]),\n",
    "         np.array([12, 13, 26]),\n",
    "         np.array([56, 20, 51])]\n",
    "# Iterating in list_arrays and taking average of each element of the list \n",
    "for i in list_arrays:\n",
    "    print(np.mean(i))"
   ]
  },
  {
   "cell_type": "markdown",
   "metadata": {},
   "source": [
    "- Calculate the mean of array ignoring the NaN value"
   ]
  },
  {
   "cell_type": "code",
   "execution_count": 347,
   "metadata": {},
   "outputs": [
    {
     "output_type": "execute_result",
     "data": {
      "text/plain": "2.0"
     },
     "metadata": {},
     "execution_count": 347
    }
   ],
   "source": [
    "array_with_nan = np.array([1,2,3, np.nan])\n",
    "np.nanmean(array_with_nan)"
   ]
  },
  {
   "cell_type": "markdown",
   "metadata": {},
   "source": [
    "- Get the mean value from given matrix"
   ]
  },
  {
   "cell_type": "code",
   "execution_count": 352,
   "metadata": {},
   "outputs": [
    {
     "output_type": "execute_result",
     "data": {
      "text/plain": "12.444444444444445"
     },
     "metadata": {},
     "execution_count": 352
    }
   ],
   "source": [
    "np.random.seed(123)\n",
    "array = np.random.randint(5, 20, size=(3,3))\n",
    "array.mean()"
   ]
  },
  {
   "cell_type": "markdown",
   "metadata": {},
   "source": [
    "- Compute the variance of the NumPy array"
   ]
  },
  {
   "cell_type": "code",
   "execution_count": 354,
   "metadata": {},
   "outputs": [
    {
     "output_type": "execute_result",
     "data": {
      "text/plain": "28.913580246913575"
     },
     "metadata": {},
     "execution_count": 354
    }
   ],
   "source": [
    "array.var()"
   ]
  },
  {
   "cell_type": "markdown",
   "metadata": {},
   "source": [
    "\n",
    "- Compute the standard deviation of the NumPy array"
   ]
  },
  {
   "cell_type": "code",
   "execution_count": 357,
   "metadata": {},
   "outputs": [
    {
     "output_type": "execute_result",
     "data": {
      "text/plain": "5.3771349478057155"
     },
     "metadata": {},
     "execution_count": 357
    }
   ],
   "source": [
    "array.std()"
   ]
  },
  {
   "cell_type": "markdown",
   "metadata": {},
   "source": [
    "- Compute pearson product-moment correlation coefficients of two given NumPy arrays"
   ]
  },
  {
   "cell_type": "code",
   "execution_count": 358,
   "metadata": {},
   "outputs": [
    {
     "output_type": "execute_result",
     "data": {
      "text/plain": "array([[1.        , 0.79593942],\n       [0.79593942, 1.        ]])"
     },
     "metadata": {},
     "execution_count": 358
    }
   ],
   "source": [
    "array1 = np.array([1,2,3,4,5,6])\n",
    "array2 = np.array([2,4,0,9, 7, 11 ])\n",
    "np.corrcoef(array1, array2)"
   ]
  },
  {
   "cell_type": "markdown",
   "metadata": {},
   "source": [
    "\n",
    "- Calculate the mean across dimension in a 2D NumPy array"
   ]
  },
  {
   "cell_type": "code",
   "execution_count": 359,
   "metadata": {
    "tags": []
   },
   "outputs": [
    {
     "output_type": "stream",
     "name": "stdout",
     "text": "Original array: \n\n[[100 300]\n [200 600]]\n\nMean of each column: \n\n[150. 450.]\n\nMean of each row:\n\n [200. 400.]\n"
    }
   ],
   "source": [
    "array = np.array([[100, 300], [200, 600]])\n",
    "print(f'Original array: \\n\\n{array}\\n')\n",
    "print(f'Mean of each column: \\n\\n{array.mean(axis=0)}\\n')\n",
    "print(f'Mean of each row:\\n\\n {array.mean(axis=1)}')"
   ]
  },
  {
   "cell_type": "markdown",
   "metadata": {},
   "source": [
    "- Calculate the average, variance and standard deviation in Python using NumPy"
   ]
  },
  {
   "cell_type": "code",
   "execution_count": 361,
   "metadata": {
    "tags": []
   },
   "outputs": [
    {
     "output_type": "stream",
     "name": "stdout",
     "text": "Original array: \n\n[[100 300]\n [200 600]]\n\nMean of array: \n\n300.0\n\nVariance of array:\n\n 35000.0\n\nStandard Dev. of array:\n\n 187.08286933869707\n"
    }
   ],
   "source": [
    "print(f'Original array: \\n\\n{array}\\n')\n",
    "print(f'Mean of array: \\n\\n{array.mean()}\\n')\n",
    "print(f'Variance of array:\\n\\n {array.var()}\\n')\n",
    "print(f'Standard Dev. of array:\\n\\n {array.std()}')"
   ]
  },
  {
   "cell_type": "markdown",
   "metadata": {},
   "source": [
    "- Describe a NumPy Array in Python"
   ]
  },
  {
   "cell_type": "code",
   "execution_count": 363,
   "metadata": {},
   "outputs": [
    {
     "output_type": "error",
     "ename": "NameError",
     "evalue": "name 'describe' is not defined",
     "traceback": [
      "\u001b[0;31m---------------------------------------------------------------------------\u001b[0m",
      "\u001b[0;31mNameError\u001b[0m                                 Traceback (most recent call last)",
      "\u001b[0;32m<ipython-input-363-4c36883f74c1>\u001b[0m in \u001b[0;36m<module>\u001b[0;34m\u001b[0m\n\u001b[0;32m----> 1\u001b[0;31m \u001b[0mdescribe\u001b[0m\u001b[0;34m(\u001b[0m\u001b[0marray\u001b[0m\u001b[0;34m)\u001b[0m\u001b[0;34m\u001b[0m\u001b[0;34m\u001b[0m\u001b[0m\n\u001b[0m",
      "\u001b[0;31mNameError\u001b[0m: name 'describe' is not defined"
     ]
    }
   ],
   "source": [
    "describe(array)"
   ]
  },
  {
   "cell_type": "markdown",
   "metadata": {},
   "source": [
    "# Questions on Polynomial"
   ]
  },
  {
   "cell_type": "markdown",
   "metadata": {},
   "source": [
    "\n",
    "- Define a polynomial function"
   ]
  },
  {
   "cell_type": "code",
   "execution_count": 369,
   "metadata": {},
   "outputs": [
    {
     "output_type": "execute_result",
     "data": {
      "text/plain": "9"
     },
     "metadata": {},
     "execution_count": 369
    }
   ],
   "source": [
    "# p = 1*X + 2\n",
    "poly1d = np.poly1d([1, 2])"
   ]
  },
  {
   "cell_type": "markdown",
   "metadata": {},
   "source": [
    "- How to add one polynomial to another using NumPy in Python?"
   ]
  },
  {
   "cell_type": "code",
   "execution_count": 371,
   "metadata": {
    "tags": []
   },
   "outputs": [
    {
     "output_type": "stream",
     "name": "stdout",
     "text": "[ 5. -6.  4.]\n"
    }
   ],
   "source": [
    "# poly1d1 = 3(x**2) + (-1)x +2\n",
    "poly1d1 = (3,-1,2)\n",
    "\n",
    " \n",
    "  \n",
    "# poly1d2 = 2(x**2) + (-5)x +2\n",
    "poly1d2 = (2,-5,2)\n",
    "  \n",
    "# add the polynomials\n",
    "poly1dresult = np.polynomial.polynomial.polyadd(poly1d1,poly1d2)\n",
    "  \n",
    "print(poly1dresult)"
   ]
  },
  {
   "cell_type": "markdown",
   "metadata": {},
   "source": [
    "- How to subtract one polynomial to another using NumPy in Python?"
   ]
  },
  {
   "cell_type": "code",
   "execution_count": 373,
   "metadata": {
    "tags": []
   },
   "outputs": [
    {
     "output_type": "stream",
     "name": "stdout",
     "text": "[1. 4.]\n"
    }
   ],
   "source": [
    "# subtract the polynomials\n",
    "poly1dresult = np.polynomial.polynomial.polysub(poly1d1,poly1d2)\n",
    "print(poly1dresult)"
   ]
  },
  {
   "cell_type": "markdown",
   "metadata": {},
   "source": [
    "\n",
    "- How to multiply a polynomial to another using NumPy in Python?"
   ]
  },
  {
   "cell_type": "code",
   "execution_count": 374,
   "metadata": {
    "tags": []
   },
   "outputs": [
    {
     "output_type": "stream",
     "name": "stdout",
     "text": "[  6. -17.  15. -12.   4.]\n"
    }
   ],
   "source": [
    "# multiply the polynomials\n",
    "poly1dresult = np.polynomial.polynomial.polymul(poly1d1,poly1d2)\n",
    "print(poly1dresult)"
   ]
  },
  {
   "cell_type": "markdown",
   "metadata": {},
   "source": [
    "\n",
    "- How to divide a polynomial to another using NumPy in Python?"
   ]
  },
  {
   "cell_type": "code",
   "execution_count": 375,
   "metadata": {
    "tags": []
   },
   "outputs": [
    {
     "output_type": "stream",
     "name": "stdout",
     "text": "(array([1.]), array([1., 4.]))\n"
    }
   ],
   "source": [
    "# divide the polynomials\n",
    "poly1dresult = np.polynomial.polynomial.polydiv(poly1d1,poly1d2)\n",
    "print(poly1dresult)"
   ]
  },
  {
   "cell_type": "markdown",
   "metadata": {},
   "source": [
    "- Find the roots of the polynomials using NumPy"
   ]
  },
  {
   "cell_type": "code",
   "execution_count": 377,
   "metadata": {},
   "outputs": [
    {
     "output_type": "execute_result",
     "data": {
      "text/plain": "array([-1.+1.41421356j, -1.-1.41421356j])"
     },
     "metadata": {},
     "execution_count": 377
    }
   ],
   "source": [
    "poly_coefs = [1, 2, 3]\n",
    "np.roots(poly_coefs)"
   ]
  },
  {
   "cell_type": "markdown",
   "metadata": {},
   "source": [
    "- Evaluate a 2-D polynomial series on the Cartesian product"
   ]
  },
  {
   "cell_type": "code",
   "execution_count": 378,
   "metadata": {
    "tags": []
   },
   "outputs": [
    {
     "output_type": "stream",
     "name": "stdout",
     "text": "[[2329. 3589.]\n [2875. 4431.]]\n"
    }
   ],
   "source": [
    "array = np.array([[2, 4, 6], [1, 2, 4]]) \n",
    "cartesian_product = np.polynomial.polynomial.polygrid2d([7, 9], [8, 10], array)\n",
    "print(cartesian_product)"
   ]
  },
  {
   "cell_type": "markdown",
   "metadata": {},
   "source": [
    "- Evaluate a 3-D polynomial series on the Cartesian product"
   ]
  },
  {
   "cell_type": "code",
   "execution_count": 379,
   "metadata": {
    "tags": []
   },
   "outputs": [
    {
     "output_type": "stream",
     "name": "stdout",
     "text": "[[ 650824.  765589.]\n [1001808. 1178441.]]\n"
    }
   ],
   "source": [
    "\n",
    "array = np.array([[1, 10, 51], [19, 4, 62], [1, 12, 13]]) \n",
    "cartesian_product = np.polynomial.polynomial.polygrid3d([7, 9], [8, 10], [5, 6], array)\n",
    "print(cartesian_product)"
   ]
  },
  {
   "cell_type": "markdown",
   "metadata": {},
   "source": [
    "# Questions on NumPy Strings\n",
    "- Repeat all the elements of a NumPy array of strings\n",
    "- How to split the element of a given NumPy array with spaces?\n",
    "- How to insert a space between characters of all the elements of a given NumPy array?\n",
    "- Find the length of each string element in the Numpy array\n",
    "- Swap the case of an array of string\n",
    "- Change the case to uppercase of elements of an array\n",
    "- Change the case to lowercase of elements of an array\n",
    "- Join String by a seperator\n",
    "- Check if two same shaped string arrayss one by one\n",
    "- Count the number of substrings in an array\n",
    "- Find the lowest index of the substring in an array\n",
    "- Get the boolean array when values end with a particular character\n",
    "- More Questions on NumPy\n",
    "- Different ways to convert a Python dictionary to a NumPy array\n",
    "- How to convert a list and tuple into NumPy arrays?\n",
    "- Ways to convert array of strings to array of floats\n",
    "- Convert a NumPy array into a csv file\n",
    "- How to Convert an image to NumPy array and save it to CSV file using Python?\n",
    "- How to save a NumPy array to a text file?\n",
    "- Load data from a text file\n",
    "- Plot line graph from NumPy array\n",
    "- Create Histogram using NumPy"
   ]
  },
  {
   "cell_type": "markdown",
   "metadata": {},
   "source": [
    "# Libs\n",
    "import numpy as np"
   ]
  },
  {
   "cell_type": "markdown",
   "metadata": {},
   "source": [
    "- How to create an empty and a full NumPy array?"
   ]
  },
  {
   "cell_type": "markdown",
   "metadata": {},
   "source": [
    "\n",
    "# NumPy Array\n",
    "- How to create an empty and a full NumPy array?\n",
    "- Create a Numpy array filled with all zeros\n",
    "- Create a Numpy array filled with all ones\n",
    "- Check whether a Numpy array contains a specified row\n",
    "- How to Remove rows in Numpy array that contains non-numeric values?\n",
    "- Remove single-dimensional entries from the shape of an array\n",
    "- Find the number of occurrences of a sequence in a NumPy array\n",
    "- Find the most frequent value in a NumPy array\n",
    "- Combining a one and a two-dimensional NumPy Array\n",
    "- How to build an array of all combinations of two NumPy arrays?\n",
    "- How to add a border around a NumPy array?\n",
    "- How to compare two NumPy arrays?\n",
    "- How to check whether specified values are present in NumPy array?\n",
    "- How to get all 2D diagonals of a 3D NumPy array?\n",
    "- Flatten a Matrix in Python using NumPy\n",
    "- Flatten a 2d numpy array into 1d array\n",
    "- Move axes of an array to new positions\n",
    "- Interchange two axes of an array\n",
    "- NumPy – Fibonacci Series using Binet Formula\n",
    "- Counts the number of non-zero values in the array\n",
    "- Count the number of elements along a given axis\n",
    "- Trim the leading and/or trailing zeros from a 1-D array\n",
    "- Change data type of given numpy array\n",
    "- Reverse a numpy array\n",
    "- How to make a NumPy array read-only?"
   ]
  }
 ],
 "metadata": {
  "language_info": {
   "codemirror_mode": {
    "name": "ipython",
    "version": 3
   },
   "file_extension": ".py",
   "mimetype": "text/x-python",
   "name": "python",
   "nbconvert_exporter": "python",
   "pygments_lexer": "ipython3",
   "version": "3.8.2-final"
  },
  "orig_nbformat": 2,
  "kernelspec": {
   "name": "python38264bitnlpvenvbf53da5f4e6f4054adfa844e241f0233",
   "display_name": "Python 3.8.2 64-bit ('nlp': venv)"
  }
 },
 "nbformat": 4,
 "nbformat_minor": 2
}